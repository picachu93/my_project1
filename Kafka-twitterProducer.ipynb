{
 "cells": [
  {
   "cell_type": "markdown",
   "metadata": {},
   "source": [
    "## Last try"
   ]
  },
  {
   "cell_type": "code",
   "execution_count": 1,
   "metadata": {
    "collapsed": false
   },
   "outputs": [
    {
     "name": "stdout",
     "output_type": "stream",
     "text": [
      "Requirement already satisfied: kafka in /home/user/anaconda2/lib/python2.7/site-packages\n",
      "Requirement already satisfied: tweepy in /home/user/anaconda2/lib/python2.7/site-packages\n",
      "Requirement already satisfied: six>=1.7.3 in /home/user/anaconda2/lib/python2.7/site-packages (from tweepy)\n",
      "Requirement already satisfied: requests-oauthlib>=0.4.1 in /home/user/anaconda2/lib/python2.7/site-packages (from tweepy)\n",
      "Requirement already satisfied: requests>=2.4.3 in /home/user/anaconda2/lib/python2.7/site-packages (from tweepy)\n",
      "Requirement already satisfied: oauthlib>=0.6.2 in /home/user/anaconda2/lib/python2.7/site-packages (from requests-oauthlib>=0.4.1->tweepy)\n"
     ]
    }
   ],
   "source": [
    "!pip install kafka\n",
    "!pip install tweepy"
   ]
  },
  {
   "cell_type": "code",
   "execution_count": 1,
   "metadata": {
    "collapsed": false
   },
   "outputs": [],
   "source": [
    "# import required libraries\n",
    "from kafka import SimpleProducer, KafkaClient\n",
    "from tweepy.streaming import StreamListener\n",
    "from tweepy import OAuthHandler\n",
    "from tweepy import Stream"
   ]
  },
  {
   "cell_type": "code",
   "execution_count": 2,
   "metadata": {
    "collapsed": false
   },
   "outputs": [],
   "source": [
    "# Kafka settings\n",
    "topic = b'twitter-stream'\n",
    "# setting up Kafka producer\n",
    "kafka = KafkaClient('localhost:9092')\n",
    "producer = SimpleProducer(kafka)"
   ]
  },
  {
   "cell_type": "code",
   "execution_count": 3,
   "metadata": {
    "collapsed": true
   },
   "outputs": [],
   "source": [
    "#This is a basic listener that just put received tweets to kafka cluster.\n",
    "class StdOutListener(StreamListener):\n",
    "    def on_data(self, data):\n",
    "        producer.send_messages(topic, data.encode('utf-8'))\n",
    "        #print data\n",
    "        return True\n",
    "\n",
    "    def on_error(self, status):\n",
    "        print status"
   ]
  },
  {
   "cell_type": "code",
   "execution_count": 4,
   "metadata": {
    "collapsed": true
   },
   "outputs": [],
   "source": [
    "import utils1\n",
    "# reads the terms to be tracked from a file\n",
    "# expects one term per line\n",
    "\n",
    "lexicon = 'QuakeLex.txt'\n",
    "\n",
    "def get_query_terms(input_filename):\n",
    "    query_terms = []\n",
    "    for line in input_filename:\n",
    "        query_terms.append(line.strip())\n",
    "    return query_terms\n",
    "\n",
    "try:\n",
    "        to_track = utils1.get_query_terms(open(lexicon,\"r\"))\n",
    "except Exception as e:\n",
    "        print \"The file path is seems to be wrong. Check the error below or run the script with -h. Please revise and restart the script\"\n",
    "        print e\n",
    "        exit(0)"
   ]
  },
  {
   "cell_type": "code",
   "execution_count": 5,
   "metadata": {
    "collapsed": true
   },
   "outputs": [],
   "source": [
    "consumer_key = 'm4pfoQYtQOCahpKEY55dlogg7'\n",
    "consumer_secret = 'TdU3rKhwfspQYrSA0GsPW7IooRkbw9opfZ82KZmADsGvnAUL01'\n",
    "access_token = '798171014693879808-9I6Ms2tOWxLmXlwVbNHmEoYQJxO97rB'\n",
    "access_secret = '3vEM0E6i6OfmNE95ng8VcK6dHtKS6qByQoD7mZtp7qqvb'"
   ]
  },
  {
   "cell_type": "code",
   "execution_count": null,
   "metadata": {
    "collapsed": false
   },
   "outputs": [
    {
     "name": "stdout",
     "output_type": "stream",
     "text": [
      "running the twitter-stream python code\n"
     ]
    }
   ],
   "source": [
    "if __name__ == '__main__':\n",
    "    print 'running the twitter-stream python code'\n",
    "    #This handles Twitter authetification and the connection to Twitter Streaming API\n",
    "    l = StdOutListener()\n",
    "    auth = OAuthHandler(consumer_key, consumer_secret)\n",
    "    auth.set_access_token(access_token, access_secret)\n",
    "    stream = Stream(auth, l)\n",
    "    # Goal is to keep this process always going\n",
    "    while True:\n",
    "        try:\n",
    "            # stream.sample()\n",
    "            stream.filter(languages=[\"en\"], track=to_track)\n",
    "        except:\n",
    "            pass"
   ]
  },
  {
   "cell_type": "code",
   "execution_count": null,
   "metadata": {
    "collapsed": true
   },
   "outputs": [],
   "source": [
    "stream.filter(languages=[\"en\"], locations = [-122.75,36.8,-121.75,37.8])"
   ]
  },
  {
   "cell_type": "code",
   "execution_count": null,
   "metadata": {
    "collapsed": true
   },
   "outputs": [],
   "source": [
    "import re\n",
    "    keyword = [\"iPhone\", \"Samsung\", \"HTC\", \"Sony\", \"Blackberry\"]\n",
    "    patterns = [r'\\b%s\\b' % re.escape(s.strip()) for s in keyword.lower()]\n",
    "    there = re.compile('|'.join(patterns))\n",
    "    stream=[\"i have a iPhone\",\"i dont like Samsung\",\"HTC design are awesome\",\"Sony camera is good\",\"Blackberry lost market\",\"Nokia soldout to windows\"]\n",
    "    for i in stream:\n",
    "        if there.search(i):\n",
    "            print(\"Tweet Found  %r\" % (i))"
   ]
  }
 ],
 "metadata": {
  "kernelspec": {
   "display_name": "Python 2",
   "language": "python",
   "name": "python2"
  },
  "language_info": {
   "codemirror_mode": {
    "name": "ipython",
    "version": 2
   },
   "file_extension": ".py",
   "mimetype": "text/x-python",
   "name": "python",
   "nbconvert_exporter": "python",
   "pygments_lexer": "ipython2",
   "version": "2.7.13"
  }
 },
 "nbformat": 4,
 "nbformat_minor": 2
}
