{
 "cells": [
  {
   "cell_type": "code",
   "execution_count": null,
   "metadata": {
    "collapsed": true
   },
   "outputs": [],
   "source": [
    "import tweepy\n",
    "import pymongo\n",
    "from time import sleep\n",
    "import six\n",
    "\n",
    "if six.PY2:\n",
    "    import urlparse\n",
    "    longtype = six.integer_types[1]\n",
    "if six.PY3:\n",
    "    import urllib.parse as urlparse\n",
    "    longtype = six.integer_types[0]\n",
    "    \n",
    "from email.utils import parsedate\n",
    "from datetime import datetime"
   ]
  },
  {
   "cell_type": "code",
   "execution_count": null,
   "metadata": {
    "collapsed": true
   },
   "outputs": [],
   "source": [
    "def parse_datetime(string):\n",
    "        return datetime(*(parsedate(string)[:6]))"
   ]
  },
  {
   "cell_type": "code",
   "execution_count": null,
   "metadata": {
    "collapsed": true
   },
   "outputs": [],
   "source": [
    "def save_tweets(statuses,current_since_id):\n",
    "    for status in statuses:\n",
    "        status['created_at']=parse_datetime(status['created_at'])\n",
    "        try:\n",
    "            status['user']['created_at']=parse_datetime(status['user']['created_at'])\n",
    "        except:\n",
    "            pass\n",
    "        tweets.update({'id':status['id']},status,upsert=True)\n",
    "        current_id = longtype(status['id'])\n",
    "        if current_id>current_since_id:\n",
    "            current_since_id = current_id\n",
    "\n",
    "    if len(statuses)==0:\n",
    "        sleep(10)\n",
    "\n",
    "    return current_since_id"
   ]
  },
  {
   "cell_type": "code",
   "execution_count": 2,
   "metadata": {
    "collapsed": true
   },
   "outputs": [],
   "source": [
    "query = \"earhquake\"\n",
    "geocode = \"37.781157,-122.398720,1km\"\n",
    "lang = \"en\"\n",
    "tweetsPerQry = 100  # this is the max the API permits\n",
    "clean_since_id = False"
   ]
  },
  {
   "cell_type": "code",
   "execution_count": 3,
   "metadata": {
    "collapsed": true
   },
   "outputs": [],
   "source": [
    "CONSUMER_KEY = \"m4pfoQYtQOCahpKEY55dlogg7\"\n",
    "CONSUMER_SECRET = \"TdU3rKhwfspQYrSA0GsPW7IooRkbw9opfZ82KZmADsGvnAUL01\"\n",
    "MONGODB_URI = \"mongodb://localhost:27017/test_twitter\""
   ]
  },
  {
   "cell_type": "code",
   "execution_count": null,
   "metadata": {
    "collapsed": true
   },
   "outputs": [],
   "source": [
    "queries_collection = \"test_queries\"\n",
    "tweets_collection = \"test_tweets\""
   ]
  },
  {
   "cell_type": "code",
   "execution_count": null,
   "metadata": {
    "collapsed": true
   },
   "outputs": [],
   "source": [
    "client = pymongo.MongoClient(MONGODB_URI)\n",
    "parsed_dburi = pymongo.uri_parser.parse_uri(MONGODB_URI)\n",
    "db = client[parsed_dburi['database']]"
   ]
  },
  {
   "cell_type": "code",
   "execution_count": null,
   "metadata": {
    "collapsed": true
   },
   "outputs": [],
   "source": [
    "queries = db[queries_collection]\n",
    "tweets = db[tweets_collection]"
   ]
  },
  {
   "cell_type": "code",
   "execution_count": null,
   "metadata": {
    "collapsed": false
   },
   "outputs": [],
   "source": [
    "queries.create_index([(\"query\",pymongo.ASCENDING),(\"geocode\",pymongo.ASCENDING),(\"lang\",pymongo.ASCENDING)],unique=True)\n",
    "\n",
    "tweets.create_index([(\"id\", pymongo.DESCENDING),],unique=True)\n",
    "tweets.create_index([(\"coordinates.coordinates\",pymongo.GEO2D),])"
   ]
  },
  {
   "cell_type": "code",
   "execution_count": 4,
   "metadata": {
    "collapsed": true
   },
   "outputs": [],
   "source": [
    "auth = tweepy.AppAuthHandler(CONSUMER_KEY, CONSUMER_SECRET)\n",
    "api = tweepy.API(auth, wait_on_rate_limit=True, wait_on_rate_limit_notify=True)"
   ]
  },
  {
   "cell_type": "code",
   "execution_count": 19,
   "metadata": {
    "collapsed": true
   },
   "outputs": [],
   "source": [
    "#without since_id\n",
    "tweetsPerQry = 100  # this is the max the API permits \n",
    "clean_since_id = False\n",
    "result_type = 'mixed'\n",
    "wait_time = 3.0"
   ]
  },
  {
   "cell_type": "code",
   "execution_count": null,
   "metadata": {
    "collapsed": true
   },
   "outputs": [],
   "source": [
    "# clean_since_id=False we dont need a clean new since_id\n",
    "if not clean_since_id:\n",
    "    current_query = queries.find_one({'query':query,'geocode':geocode,'lang':lang})\n",
    "else:\n",
    "    current_query = None\n",
    "\n",
    "if current_query:\n",
    "    since_id = current_query['since_id']\n",
    "else:\n",
    "    since_id = None "
   ]
  },
  {
   "cell_type": "code",
   "execution_count": null,
   "metadata": {
    "collapsed": true
   },
   "outputs": [],
   "source": [
    "while True:\n",
    "\n",
    "    sleep(wait_time)\n",
    "    results = api.search(q=query, count=tweetsPerQry, lang=lang,    geocode=geocode, since_id = since_id, result_type = result_type)\n",
    "    \n",
    "    refresh_url = results['search_metadata'].get('refresh_url')\n",
    "    p = urlparse.urlparse(refresh_url)\n",
    "    \n",
    "    if since_id:\n",
    "        current_since_id = longtype(since_id)\n",
    "    else:\n",
    "        current_since_id = 0\n",
    "\n",
    "    new_since_id = save_tweets(results['statuses'],current_since_id)\n",
    "    next_results = results['search_metadata'].get('next_results')\n",
    "    \n",
    "    while next_results:\n",
    "                p = urlparse.urlparse(next_results)\n",
    "                next_results_max_id = dict(urlparse.parse_qsl(p.query))['max_id']\n",
    "                results = perform_query(q=query,geocode=geocode,lang=lang,count=100,since_id=since_id,max_id=next_results_max_id,result_type=result_type)\n",
    "                next_results = results['search_metadata'].get('next_results')\n",
    "                new_since_id = save_tweets(results['statuses'],new_since_id)\n",
    "        \n",
    "    new_since_id = str(new_since_id)\n",
    "    queries.update({'query':query,'geocode':geocode,'lang':lang},{\"$set\":{'since_id':new_since_id}},upsert=True)\n",
    "    since_id = new_since_id"
   ]
  },
  {
   "cell_type": "code",
   "execution_count": 18,
   "metadata": {
    "collapsed": false
   },
   "outputs": [
    {
     "data": {
      "text/plain": [
       "[]"
      ]
     },
     "execution_count": 18,
     "metadata": {},
     "output_type": "execute_result"
    }
   ],
   "source": [
    "api.search(q=query, lang = lang, geocode = geocode, count= )"
   ]
  },
  {
   "cell_type": "code",
   "execution_count": null,
   "metadata": {
    "collapsed": true
   },
   "outputs": [],
   "source": []
  }
 ],
 "metadata": {
  "kernelspec": {
   "display_name": "Python 2",
   "language": "python",
   "name": "python2"
  },
  "language_info": {
   "codemirror_mode": {
    "name": "ipython",
    "version": 2
   },
   "file_extension": ".py",
   "mimetype": "text/x-python",
   "name": "python",
   "nbconvert_exporter": "python",
   "pygments_lexer": "ipython2",
   "version": "2.7.13"
  }
 },
 "nbformat": 4,
 "nbformat_minor": 2
}
