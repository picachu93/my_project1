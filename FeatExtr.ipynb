{
 "cells": [
  {
   "cell_type": "code",
   "execution_count": null,
   "metadata": {
    "collapsed": true
   },
   "outputs": [],
   "source": [
    "from sets import Set\n",
    "import pandas as pd\n",
    " \n",
    "BOW_df = pd.DataFrame(0, columns=scores, index='')\n",
    "words_set = Set()\n",
    "for review in training_set:\n",
    "    score = review['score']\n",
    "    text = review['review_text']\n",
    "    splitted_text = split_text(text)\n",
    "    for word in splitted_text:\n",
    "        if word not in words_set:\n",
    "            words_set.add(word)\n",
    "            BOW_df.loc[word] = [0,0,0,0,0]\n",
    "            BOW_df.ix[word][score] += 1\n",
    "        else:\n",
    "            BOW_df.ix[word][score] += 1"
   ]
  }
 ],
 "metadata": {
  "kernelspec": {
   "display_name": "Python 2",
   "language": "python",
   "name": "python2"
  },
  "language_info": {
   "codemirror_mode": {
    "name": "ipython",
    "version": 2
   },
   "file_extension": ".py",
   "mimetype": "text/x-python",
   "name": "python",
   "nbconvert_exporter": "python",
   "pygments_lexer": "ipython2",
   "version": "2.7.13"
  }
 },
 "nbformat": 4,
 "nbformat_minor": 2
}
