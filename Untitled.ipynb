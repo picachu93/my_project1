{
 "cells": [
  {
   "cell_type": "code",
   "execution_count": null,
   "metadata": {
    "collapsed": true
   },
   "outputs": [],
   "source": [
    "!pip install twitter-tap"
   ]
  },
  {
   "cell_type": "code",
   "execution_count": null,
   "metadata": {
    "collapsed": false
   },
   "outputs": [],
   "source": [
    "from pyspark.sql import DataFrame\n",
    "spark.sql(\"CREATE TEMPORARY VIEW students_table USING com.stratio.datasource.mongodb OPTIONS (host 'localhost:27017', database 'highschool', collection 'students')\")\n",
    "spark.sql(\"SELECT * FROM students_table\").collect()"
   ]
  },
  {
   "cell_type": "code",
   "execution_count": 1,
   "metadata": {
    "collapsed": true
   },
   "outputs": [],
   "source": [
    "import datetime\n",
    "#utc_timestamp = datetime.datetime.utcnow()"
   ]
  },
  {
   "cell_type": "code",
   "execution_count": 2,
   "metadata": {
    "collapsed": false
   },
   "outputs": [
    {
     "data": {
      "text/plain": [
       "u'created_at_1'"
      ]
     },
     "execution_count": 2,
     "metadata": {},
     "output_type": "execute_result"
    }
   ],
   "source": [
    "import pymongo\n",
    "MONGODB_URI = \"mongodb://localhost:27017/expire\"\n",
    "tweets_collection = \"labels\"\n",
    "\n",
    "client = pymongo.MongoClient(MONGODB_URI)\n",
    "parsed_dburi = pymongo.uri_parser.parse_uri(MONGODB_URI)\n",
    "#       Database\n",
    "db = client[parsed_dburi['database']]\n",
    "\n",
    "#       Collection\n",
    "tweets = db[tweets_collection]\n",
    "\n",
    "\n",
    "#tweets.create_index([(\"id\", pymongo.DESCENDING),], unique=True)\n",
    "tweets.create_index(\"created_at\", expireAfterSeconds=30)"
   ]
  },
  {
   "cell_type": "code",
   "execution_count": 3,
   "metadata": {
    "collapsed": true
   },
   "outputs": [],
   "source": [
    "df = spark.read.option(\"header\",\"true\").csv(\"data/nepal_train.csv\")\n",
    "df = df.select(df.tweet_text,df.label.cast(\"double\").alias(\"label\"))\n",
    "df = df.dropna()\n",
    "#df.write.csv(\"data/mycsv.csv\")\n",
    "df.createOrReplaceTempView(\"tweets\")\n",
    "all_tweets = spark.sql(\"SELECT tweet_text, label FROM tweets\")"
   ]
  },
  {
   "cell_type": "code",
   "execution_count": null,
   "metadata": {
    "collapsed": true
   },
   "outputs": [],
   "source": [
    "from pyspark.sql.functions import lit\n",
    "all_tweets.withColumn({'created_at', datetime.datetime.utcnow())"
   ]
  },
  {
   "cell_type": "code",
   "execution_count": 4,
   "metadata": {
    "collapsed": false
   },
   "outputs": [],
   "source": [
    "all_tweets.write.format(\"com.stratio.datasource.mongodb\").mode('overwrite').options(host='localhost:27017', \n",
    "                                            database='expire', collection='labels').save()"
   ]
  },
  {
   "cell_type": "code",
   "execution_count": 5,
   "metadata": {
    "collapsed": false
   },
   "outputs": [
    {
     "ename": "TypeError",
     "evalue": "if no direction is specified, key_or_list must be an instance of list",
     "output_type": "error",
     "traceback": [
      "\u001b[0;31m---------------------------------------------------------------------------\u001b[0m",
      "\u001b[0;31mTypeError\u001b[0m                                 Traceback (most recent call last)",
      "\u001b[0;32m<ipython-input-5-71d923456453>\u001b[0m in \u001b[0;36m<module>\u001b[0;34m()\u001b[0m\n\u001b[0;32m----> 1\u001b[0;31m \u001b[0mtweets\u001b[0m\u001b[0;34m.\u001b[0m\u001b[0mcreate_index\u001b[0m\u001b[0;34m(\u001b[0m\u001b[0;34m{\u001b[0m\u001b[0;34m\"created_at\"\u001b[0m\u001b[0;34m:\u001b[0m\u001b[0;36m1\u001b[0m\u001b[0;34m}\u001b[0m\u001b[0;34m,\u001b[0m \u001b[0mexpireAfterSeconds\u001b[0m\u001b[0;34m=\u001b[0m\u001b[0;36m30\u001b[0m\u001b[0;34m)\u001b[0m\u001b[0;34m\u001b[0m\u001b[0m\n\u001b[0m\u001b[1;32m      2\u001b[0m \u001b[0;31m#tweets.update_many({}, { '$set' : { \"created_at\" : datetime.datetime.utcnow() } }, True, True)\u001b[0m\u001b[0;34m\u001b[0m\u001b[0;34m\u001b[0m\u001b[0m\n",
      "\u001b[0;32m/home/user/anaconda2/lib/python2.7/site-packages/pymongo/collection.pyc\u001b[0m in \u001b[0;36mcreate_index\u001b[0;34m(self, keys, **kwargs)\u001b[0m\n\u001b[1;32m   1567\u001b[0m         \u001b[0;34m.\u001b[0m\u001b[0;34m.\u001b[0m \u001b[0mmongodoc\u001b[0m\u001b[0;34m:\u001b[0m\u001b[0;34m:\u001b[0m \u001b[0mindexes\u001b[0m\u001b[0;34m\u001b[0m\u001b[0m\n\u001b[1;32m   1568\u001b[0m         \"\"\"\n\u001b[0;32m-> 1569\u001b[0;31m         \u001b[0mkeys\u001b[0m \u001b[0;34m=\u001b[0m \u001b[0mhelpers\u001b[0m\u001b[0;34m.\u001b[0m\u001b[0m_index_list\u001b[0m\u001b[0;34m(\u001b[0m\u001b[0mkeys\u001b[0m\u001b[0;34m)\u001b[0m\u001b[0;34m\u001b[0m\u001b[0m\n\u001b[0m\u001b[1;32m   1570\u001b[0m         \u001b[0mname\u001b[0m \u001b[0;34m=\u001b[0m \u001b[0mkwargs\u001b[0m\u001b[0;34m.\u001b[0m\u001b[0msetdefault\u001b[0m\u001b[0;34m(\u001b[0m\u001b[0;34m\"name\"\u001b[0m\u001b[0;34m,\u001b[0m \u001b[0mhelpers\u001b[0m\u001b[0;34m.\u001b[0m\u001b[0m_gen_index_name\u001b[0m\u001b[0;34m(\u001b[0m\u001b[0mkeys\u001b[0m\u001b[0;34m)\u001b[0m\u001b[0;34m)\u001b[0m\u001b[0;34m\u001b[0m\u001b[0m\n\u001b[1;32m   1571\u001b[0m         \u001b[0mself\u001b[0m\u001b[0;34m.\u001b[0m\u001b[0m__create_index\u001b[0m\u001b[0;34m(\u001b[0m\u001b[0mkeys\u001b[0m\u001b[0;34m,\u001b[0m \u001b[0mkwargs\u001b[0m\u001b[0;34m)\u001b[0m\u001b[0;34m\u001b[0m\u001b[0m\n",
      "\u001b[0;32m/home/user/anaconda2/lib/python2.7/site-packages/pymongo/helpers.pyc\u001b[0m in \u001b[0;36m_index_list\u001b[0;34m(key_or_list, direction)\u001b[0m\n\u001b[1;32m     61\u001b[0m             \u001b[0;32mreturn\u001b[0m \u001b[0;34m[\u001b[0m\u001b[0;34m(\u001b[0m\u001b[0mkey_or_list\u001b[0m\u001b[0;34m,\u001b[0m \u001b[0mASCENDING\u001b[0m\u001b[0;34m)\u001b[0m\u001b[0;34m]\u001b[0m\u001b[0;34m\u001b[0m\u001b[0m\n\u001b[1;32m     62\u001b[0m         \u001b[0;32melif\u001b[0m \u001b[0;32mnot\u001b[0m \u001b[0misinstance\u001b[0m\u001b[0;34m(\u001b[0m\u001b[0mkey_or_list\u001b[0m\u001b[0;34m,\u001b[0m \u001b[0;34m(\u001b[0m\u001b[0mlist\u001b[0m\u001b[0;34m,\u001b[0m \u001b[0mtuple\u001b[0m\u001b[0;34m)\u001b[0m\u001b[0;34m)\u001b[0m\u001b[0;34m:\u001b[0m\u001b[0;34m\u001b[0m\u001b[0m\n\u001b[0;32m---> 63\u001b[0;31m             raise TypeError(\"if no direction is specified, \"\n\u001b[0m\u001b[1;32m     64\u001b[0m                             \"key_or_list must be an instance of list\")\n\u001b[1;32m     65\u001b[0m         \u001b[0;32mreturn\u001b[0m \u001b[0mkey_or_list\u001b[0m\u001b[0;34m\u001b[0m\u001b[0m\n",
      "\u001b[0;31mTypeError\u001b[0m: if no direction is specified, key_or_list must be an instance of list"
     ]
    }
   ],
   "source": [
    "tweets.create_index({\"created_at\":1}, expireAfterSeconds=30)\n",
    "#tweets.update_many({}, { '$set' : { \"created_at\" : datetime.datetime.utcnow() } }, True, True)"
   ]
  },
  {
   "cell_type": "code",
   "execution_count": null,
   "metadata": {
    "collapsed": false
   },
   "outputs": [],
   "source": [
    "tweets.count({\"label\" : 0})"
   ]
  },
  {
   "cell_type": "code",
   "execution_count": null,
   "metadata": {
    "collapsed": false
   },
   "outputs": [],
   "source": [
    "dfView = spark.read.format('com.stratio.datasource.mongodb').options(host='localhost:27017', database='expire', collection='labels').load()\n",
    "dfView.show()"
   ]
  },
  {
   "cell_type": "code",
   "execution_count": null,
   "metadata": {
    "collapsed": false
   },
   "outputs": [],
   "source": [
    "tweets.delete_many({})"
   ]
  },
  {
   "cell_type": "code",
   "execution_count": null,
   "metadata": {
    "collapsed": false
   },
   "outputs": [],
   "source": [
    "df.select(\"tweet_text\").write.format(\"com.stratio.datasource.mongodb\").mode('overwrite').options(host='localhost:27017', database='highschool', collection='studentsview').save()\n",
    "dfView = spark.read.format('com.stratio.datasource.mongodb').options(host='localhost:27017', database='highschool', collection='studentsview').load()\n",
    "dfView.show()"
   ]
  },
  {
   "cell_type": "code",
   "execution_count": null,
   "metadata": {
    "collapsed": false
   },
   "outputs": [],
   "source": [
    "!tap search -ck \"m4pfoQYtQOCahpKEY55dlogg7\" -cs \"TdU3rKhwfspQYrSA0GsPW7IooRkbw9opfZ82KZmADsGvnAUL01\" -at \"798171014693879808-9I6Ms2tOWxLmXlwVbNHmEoYQJxO97rB\" -q  \"earthquake\" -g \"37.781157,-122.398720,1km\" -l \"en\" -v DEBUG "
   ]
  },
  {
   "cell_type": "code",
   "execution_count": null,
   "metadata": {
    "collapsed": true
   },
   "outputs": [],
   "source": [
    "!tap search --consumer-key 'm4pfoQYtQOCahpKEY55dlogg7' --consumer-secret 'TdU3rKhwfspQYrSA0GsPW7IooRkbw9opfZ82KZmADsGvnAUL01' -q 'miley cyrus' -v DEBUG"
   ]
  },
  {
   "cell_type": "code",
   "execution_count": null,
   "metadata": {
    "collapsed": true
   },
   "outputs": [],
   "source": [
    "import pymongo\n",
    "import sys\n",
    "import os\n",
    "import glob\n",
    "import requests\n",
    "import csv\n",
    "import argparse\n",
    "from twython.exceptions import TwythonRateLimitError,TwythonError\n",
    "from twython import Twython\n",
    "from time import sleep\n",
    "import six\n",
    "if six.PY2:\n",
    "    import urlparse\n",
    "    longtype = six.integer_types[1]\n",
    "if six.PY3:\n",
    "    import urllib.parse as urlparse\n",
    "    longtype = six.integer_types[0]\n",
    "from datetime import datetime\n",
    "from email.utils import parsedate"
   ]
  },
  {
   "cell_type": "code",
   "execution_count": null,
   "metadata": {
    "collapsed": true
   },
   "outputs": [],
   "source": [
    "query = \"earthquake\"\n",
    "geocode = \"37.781157,-122.398720,1km\"\n",
    "lang = \"en\"\n",
    "waittime = 2.0\n",
    "clean_since_id = False\n",
    "result_type = 'mixed'"
   ]
  },
  {
   "cell_type": "code",
   "execution_count": null,
   "metadata": {
    "collapsed": true
   },
   "outputs": [],
   "source": [
    "CONSUMER_KEY = \"m4pfoQYtQOCahpKEY55dlogg7\"\n",
    "CONSUMER_SECRET = \"TdU3rKhwfspQYrSA0GsPW7IooRkbw9opfZ82KZmADsGvnAUL01\"\n",
    "ACCESS_TOKEN = \"798171014693879808-9I6Ms2tOWxLmXlwVbNHmEoYQJxO97rB\"\n",
    "MONGODB_URI = \"mongodb://localhost:27017/twitter\""
   ]
  },
  {
   "cell_type": "code",
   "execution_count": null,
   "metadata": {
    "collapsed": true
   },
   "outputs": [],
   "source": [
    "queries_collection = \"earthquake\"\n",
    "tweets_collection = \"SanFrancisco_quakes\""
   ]
  },
  {
   "cell_type": "code",
   "execution_count": null,
   "metadata": {
    "collapsed": true
   },
   "outputs": [],
   "source": [
    "twitter = Twython(CONSUMER_KEY, CONSUMER_SECRET, access_token=ACCESS_TOKEN)"
   ]
  },
  {
   "cell_type": "code",
   "execution_count": null,
   "metadata": {
    "collapsed": true
   },
   "outputs": [],
   "source": [
    "client = pymongo.MongoClient(MONGODB_URI)"
   ]
  },
  {
   "cell_type": "code",
   "execution_count": null,
   "metadata": {
    "collapsed": true
   },
   "outputs": [],
   "source": [
    "parsed_dburi = pymongo.uri_parser.parse_uri(MONGODB_URI)"
   ]
  },
  {
   "cell_type": "code",
   "execution_count": null,
   "metadata": {
    "collapsed": true
   },
   "outputs": [],
   "source": [
    "db = client[parsed_dburi['database']]"
   ]
  },
  {
   "cell_type": "code",
   "execution_count": null,
   "metadata": {
    "collapsed": true
   },
   "outputs": [],
   "source": [
    "queries = db[queries_collection]\n",
    "tweets = db[tweets_collection]"
   ]
  },
  {
   "cell_type": "code",
   "execution_count": null,
   "metadata": {
    "collapsed": false
   },
   "outputs": [],
   "source": [
    "queries.create_index([(\"query\",pymongo.ASCENDING),(\"geocode\",pymongo.ASCENDING),(\"lang\",pymongo.ASCENDING)],unique=True)"
   ]
  },
  {
   "cell_type": "code",
   "execution_count": null,
   "metadata": {
    "collapsed": false
   },
   "outputs": [],
   "source": [
    "tweets.create_index([(\"id\", pymongo.DESCENDING),],unique=True)"
   ]
  },
  {
   "cell_type": "code",
   "execution_count": null,
   "metadata": {
    "collapsed": false
   },
   "outputs": [],
   "source": [
    "tweets.create_index([(\"coordinates.coordinates\",pymongo.GEO2D),])"
   ]
  },
  {
   "cell_type": "code",
   "execution_count": null,
   "metadata": {
    "collapsed": true
   },
   "outputs": [],
   "source": [
    "if not clean_since_id:\n",
    "    current_query = queries.find_one({'query':query,'geocode':geocode,'lang':lang})\n",
    "else:\n",
    "    current_query = None        "
   ]
  },
  {
   "cell_type": "code",
   "execution_count": null,
   "metadata": {
    "collapsed": true
   },
   "outputs": [],
   "source": [
    "if current_query:\n",
    "    since_id = current_query['since_id']\n",
    "else:\n",
    "    since_id = None"
   ]
  },
  {
   "cell_type": "code",
   "execution_count": null,
   "metadata": {
    "collapsed": true
   },
   "outputs": [],
   "source": [
    "def perform_query(**kwargs):\n",
    "    while True:\n",
    "        sleep(waittime)\n",
    "        try:\n",
    "            results = twitter.search(**kwargs)\n",
    "        except TwythonRateLimitError:\n",
    "            print(\"Rate limit reached, taking a break for a minute...\\n\")\n",
    "            sleep(60)\n",
    "            continue\n",
    "        except TwythonError as err:\n",
    "            print(\"Some other error occured, taking a break for half a minute: \"+str(err))\n",
    "            sleep(30)\n",
    "            continue\n",
    "        return results\n",
    "\n",
    "def save_tweets(statuses,current_since_id):\n",
    "    for status in statuses:\n",
    "        status['created_at']=parse_datetime(status['created_at'])\n",
    "        try:\n",
    "            status['user']['created_at']=parse_datetime(status['user']['created_at'])\n",
    "        except:\n",
    "            pass\n",
    "        tweets.update({'id':status['id']},status,upsert=True)\n",
    "        current_id = longtype(status['id'])\n",
    "        if current_id>current_since_id:\n",
    "            current_since_id = current_id\n",
    "    if len(statuses)==0:\n",
    "        print(\"No new tweets. Taking a break for 10 seconds...\")\n",
    "        sleep(10)\n",
    "    else:\n",
    "        print(\"Received \"+str(len(statuses))+\" tweets.\")\n",
    "    return current_since_id"
   ]
  },
  {
   "cell_type": "code",
   "execution_count": null,
   "metadata": {
    "collapsed": false
   },
   "outputs": [],
   "source": [
    "print(\"Collecting tweets from the search API...\")\n",
    "\n",
    "while True:\n",
    "    results = perform_query(q=query,geocode=geocode,lang=lang,count=100,since_id=since_id,result_type=result_type)\n",
    "\n",
    "    refresh_url = results['search_metadata'].get('refresh_url')\n",
    "    p = urlparse.urlparse(refresh_url)\n",
    "    # we will now compute the new since_id as the maximum of all returned ids\n",
    "    #new_since_id = dict(urlparse.parse_qsl(p.query))['since_id']\n",
    "    print(\"Rate limit for current window: \"+str(twitter.get_lastfunction_header(header=\"x-rate-limit-remaining\")))\n",
    "    if since_id:\n",
    "        current_since_id = longtype(since_id)\n",
    "    else:\n",
    "        current_since_id = 0\n",
    "    new_since_id = save_tweets(results['statuses'],current_since_id)\n",
    "\n",
    "    next_results = results['search_metadata'].get('next_results')\n",
    "    while next_results:\n",
    "        p = urlparse.urlparse(next_results)\n",
    "        next_results_max_id = dict(urlparse.parse_qsl(p.query))['max_id']\n",
    "        results = perform_query(q=query,geocode=geocode,lang=lang,count=100,since_id=since_id,max_id=next_results_max_id,result_type=result_type)\n",
    "        next_results = results['search_metadata'].get('next_results')\n",
    "        print(\"Rate limit for current window: \"+str(twitter.get_lastfunction_header(header=\"x-rate-limit-remaining\")))\n",
    "        new_since_id = save_tweets(results['statuses'],new_since_id)\n",
    "\n",
    "    new_since_id = str(new_since_id)\n",
    "    queries.update({'query':query,'geocode':geocode,'lang':lang},{\"$set\":{'since_id':new_since_id}},upsert=True)\n",
    "    since_id = new_since_id\n"
   ]
  },
  {
   "cell_type": "code",
   "execution_count": null,
   "metadata": {
    "collapsed": true
   },
   "outputs": [],
   "source": [
    "results = perform_query(q=query,geocode=geocode,lang=lang,count=100,since_id=since_id,result_type=result_type)"
   ]
  },
  {
   "cell_type": "code",
   "execution_count": null,
   "metadata": {
    "collapsed": true
   },
   "outputs": [],
   "source": []
  }
 ],
 "metadata": {
  "kernelspec": {
   "display_name": "Python 2",
   "language": "python",
   "name": "python2"
  },
  "language_info": {
   "codemirror_mode": {
    "name": "ipython",
    "version": 2
   },
   "file_extension": ".py",
   "mimetype": "text/x-python",
   "name": "python",
   "nbconvert_exporter": "python",
   "pygments_lexer": "ipython2",
   "version": "2.7.13"
  }
 },
 "nbformat": 4,
 "nbformat_minor": 2
}
